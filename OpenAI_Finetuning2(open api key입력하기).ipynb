{
  "nbformat": 4,
  "nbformat_minor": 0,
  "metadata": {
    "colab": {
      "provenance": []
    },
    "kernelspec": {
      "name": "python3",
      "display_name": "Python 3"
    },
    "language_info": {
      "name": "python"
    }
  },
  "cells": [
    {
      "cell_type": "code",
      "source": [
        "%%capture\n",
        "!pip install openai\n",
        "!pip install datasets"
      ],
      "metadata": {
        "id": "1judd9krSiFG"
      },
      "execution_count": 1,
      "outputs": []
    },
    {
      "cell_type": "code",
      "source": [
        "!pip install openai==0.28"
      ],
      "metadata": {
        "colab": {
          "base_uri": "https://localhost:8080/"
        },
        "id": "Gw6dfn38s8C7",
        "outputId": "6d36bc80-eb7f-411e-9cd8-869354af35d6"
      },
      "execution_count": 2,
      "outputs": [
        {
          "output_type": "stream",
          "name": "stdout",
          "text": [
            "Collecting openai==0.28\n",
            "  Downloading openai-0.28.0-py3-none-any.whl (76 kB)\n",
            "\u001b[?25l     \u001b[90m━━━━━━━━━━━━━━━━━━━━━━━━━━━━━━━━━━━━━━━━\u001b[0m \u001b[32m0.0/76.5 kB\u001b[0m \u001b[31m?\u001b[0m eta \u001b[36m-:--:--\u001b[0m\r\u001b[2K     \u001b[91m━━━━━━━━━━━━━━━━━━━━━━━━━━━━━━━━━━━━━\u001b[0m\u001b[90m╺\u001b[0m\u001b[90m━━\u001b[0m \u001b[32m71.7/76.5 kB\u001b[0m \u001b[31m2.5 MB/s\u001b[0m eta \u001b[36m0:00:01\u001b[0m\r\u001b[2K     \u001b[90m━━━━━━━━━━━━━━━━━━━━━━━━━━━━━━━━━━━━━━━━\u001b[0m \u001b[32m76.5/76.5 kB\u001b[0m \u001b[31m1.8 MB/s\u001b[0m eta \u001b[36m0:00:00\u001b[0m\n",
            "\u001b[?25hRequirement already satisfied: requests>=2.20 in /usr/local/lib/python3.10/dist-packages (from openai==0.28) (2.31.0)\n",
            "Requirement already satisfied: tqdm in /usr/local/lib/python3.10/dist-packages (from openai==0.28) (4.66.4)\n",
            "Requirement already satisfied: aiohttp in /usr/local/lib/python3.10/dist-packages (from openai==0.28) (3.9.5)\n",
            "Requirement already satisfied: charset-normalizer<4,>=2 in /usr/local/lib/python3.10/dist-packages (from requests>=2.20->openai==0.28) (3.3.2)\n",
            "Requirement already satisfied: idna<4,>=2.5 in /usr/local/lib/python3.10/dist-packages (from requests>=2.20->openai==0.28) (3.7)\n",
            "Requirement already satisfied: urllib3<3,>=1.21.1 in /usr/local/lib/python3.10/dist-packages (from requests>=2.20->openai==0.28) (2.0.7)\n",
            "Requirement already satisfied: certifi>=2017.4.17 in /usr/local/lib/python3.10/dist-packages (from requests>=2.20->openai==0.28) (2024.2.2)\n",
            "Requirement already satisfied: aiosignal>=1.1.2 in /usr/local/lib/python3.10/dist-packages (from aiohttp->openai==0.28) (1.3.1)\n",
            "Requirement already satisfied: attrs>=17.3.0 in /usr/local/lib/python3.10/dist-packages (from aiohttp->openai==0.28) (23.2.0)\n",
            "Requirement already satisfied: frozenlist>=1.1.1 in /usr/local/lib/python3.10/dist-packages (from aiohttp->openai==0.28) (1.4.1)\n",
            "Requirement already satisfied: multidict<7.0,>=4.5 in /usr/local/lib/python3.10/dist-packages (from aiohttp->openai==0.28) (6.0.5)\n",
            "Requirement already satisfied: yarl<2.0,>=1.0 in /usr/local/lib/python3.10/dist-packages (from aiohttp->openai==0.28) (1.9.4)\n",
            "Requirement already satisfied: async-timeout<5.0,>=4.0 in /usr/local/lib/python3.10/dist-packages (from aiohttp->openai==0.28) (4.0.3)\n",
            "Installing collected packages: openai\n",
            "  Attempting uninstall: openai\n",
            "    Found existing installation: openai 1.26.0\n",
            "    Uninstalling openai-1.26.0:\n",
            "      Successfully uninstalled openai-1.26.0\n",
            "Successfully installed openai-0.28.0\n"
          ]
        }
      ]
    },
    {
      "cell_type": "markdown",
      "source": [
        "# OpenAI API設定"
      ],
      "metadata": {
        "id": "RfTT7awXHSA1"
      }
    },
    {
      "cell_type": "code",
      "source": [
        "import os\n",
        "import getpass\n",
        "import openai\n",
        "openai.api_key = getpass.getpass(prompt = 'open api key')"
      ],
      "metadata": {
        "id": "0EEHtl8ASg4A"
      },
      "execution_count": null,
      "outputs": []
    },
    {
      "cell_type": "markdown",
      "source": [
        "# 학습 데이터"
      ],
      "metadata": {
        "id": "LUvwgw7lvLhj"
      }
    },
    {
      "cell_type": "code",
      "source": [
        "\n",
        "dataset = {\n",
        "    \"train\": [\n",
        "      {\n",
        "          \"instruction\": \"넌 이름이 뭐니\",\n",
        "          \"output\": \"제 이름은 TripWiz입니다.\"\n",
        "      },\n",
        "      {\n",
        "          \"instruction\": \"비오는날 잠실에서 할 데이트 코스를 짜줘\",\n",
        "          \"output\": \"비오는 날에도 잠실에서는 다양한 즐길거리와 활동들이 많아요. 롯데월드 내 놀이공원 즐기기, 아쿠아리움 방문하기, 롯데월드몰 쇼핑하기, 카페가기등을 할 수 있어요!\"\n",
        "      },\n",
        "      {\n",
        "          \"instruction\": \"가족들과 1박2일로 속초여행을 갈거야. 여행코스를 짜줘\",\n",
        "          \"output\": \"훌륭한 선택이에요! 속초는 아름다운 해변과 풍부한 관광지로 가족 여행에 안성맞춤이에요. 1박 2일 동안의 여행 코스를 짜 보겠습니다.\\n[ Day 1]\\n오전:속초해수욕장: 여행 첫 날 아침에는 속초 대표 해변인 속초해수욕장을 방문해보세요. 바닷가를 산책하고 멋진 사진을 찍을 수 있어 가족 모두가 즐거워할 거예요.\\n점심:속초시장: 속초를 대표하는 전통 시장인 속초시장에서 지역 특산물과 간식거리를 즐겨보세요. 신선한 해산물과 각종 간식들을 맛볼 수 있어요. \\n오후: 속초 자연사박물관: 자연사 박물관에서는 지역의 자연과 생태계에 관한 다양한 전시물을 감상할 수 있어요. 특히 어린이들이 즐길 수 있는 체험 프로그램도 있으니 함께 참여해보세요.\\n저녁:속초 명가 명동회타운: 저녁 식사는 명동회타운에서 맛있는 회 요리를 즐겨보세요. 신선한 해산물을 맛볼 수 있는 곳으로 가족들이 함께 식사를 즐기기에 좋아요.\\n[ Day 2 ]\\n오전: 속초 자연휴양림: 여행의 두 번째 날은 자연휴양림에서 트레킹이나 가족들과 함께 피크닉을 즐겨보세요. 아름다운 풍경과 싱그러운 공기를 느끼며 가족들과 즐거운 시간을 보낼 수 있어요. \\n점심: 아바이마을: 속초를 대표하는 관광지인 아바이마을에서 지역 맛집을 찾아 식사를 즐겨보세요. 특히 해산물을 활용한 다양한 요리를 맛볼 수 있어요. \\n오후: 속초 두타산 자연휴양림 케이블카: 여행 마지막 날 오후에는 속초 두타산 자연휴양림에서 케이블카를 이용해 전망대까지 올라가보세요. 멋진 풍경을 감상하며 가족들과 함께 추억을 만들어보세요.\"\n",
        "      },\n",
        "      {\n",
        "          \"instruction\": \"외국인 친구가 서울에 놀러왔어. 외국인 친구는 kpop팬이야. 추천 관광지를 알려줘\",\n",
        "          \"output\": \"외국인 친구가 K-pop 팬이라면, 서울에는 다양한 K-pop 관련 관광지와 체험이 있어요. 여기서 몇 가지를 추천해드릴게요! \\n1.SM 타운 (SM Town): SM 엔터테인먼트의 본사인 SM 타운은 K-pop 팬들에게는 꼭 가봐야 할 곳입니다. 여기에는 SM 아티스트들의 소속사이자 전시관인 SM 코엑스 아트홀뿐만 아니라 음반샵, 카페, 상점 등이 있어요. K-pop 스타들의 관련 굿즈를 구경하고 기념품을 사는 재미를 느낄 수 있어요. \\n2.YG 엔터테인먼트 빌리지: YG 엔터테인먼트의 본사인 YG 엔터테인먼트 빌리지는 YG 아티스트들의 음악과 컬처를 체험할 수 있는 장소입니다. 특히 외국인 친구가 관심을 가질 수 있는 투어나 이벤트도 종종 열리는 곳이니 관련 정보를 확인해보세요. \\n3.Gangnam 코엑스: 서울의 상징적인 명소인 Gangnam 코엑스는 K-pop 스타들의 콘서트와 이벤트가 열리는 장소 중 하나입니다. 콘서트 일정을 확인하고 관련 행사에 참여해보세요.\\n4.명동 K-pop 스토어: 명동은 서울에서 쇼핑을 즐길 수 있는 대표적인 장소 중 하나이며, 여기에는 다양한 K-pop 상품을 판매하는 스토어들이 많이 있어요. K-pop 음반, 굿즈, 의류 등을 구경하고 구매할 수 있어요. \\n5.K-pop 댄스 체험: 서울에는 K-pop 댄스를 배울 수 있는 다양한 학원이 있습니다. 외국인 친구와 함께 K-pop 댄스 체험을 해보는 것도 재미있을 거예요.\"\n",
        "      },\n",
        "      {\n",
        "          \"instruction\": \"종로 맛집을 알려줘\",\n",
        "          \"output\": \"종로에는 다양한 맛집이 있지만 그중에서도 특히 유명한 몇 군데를 소개해드릴게요.\\n1.춘향골: 전통적인 한국 음식을 맛볼 수 있는 곳으로 유명합니다. 특히 순두부찌개와 간장게장이 맛있어요. 한옥 분위기 속에서 정갈한 한식을 즐길 수 있습니다.\\n2.공평동 족발: 종로에서 유명한 족발 전문점입니다. 부드럽고 고소한 족발이 맛있고, 매콤한 마늘 소스와 함께 먹으면 더욱 맛있습니다.\\n3.삼청동 칼국수: 가볍고 깔끔한 맛으로 유명한 칼국수 전문점입니다. 고기와 면의 조화가 잘 어울리며 시원한 국물이 어른들부터 어린이까지 많은 사랑을 받습니다.\\n4.남산돈가: 고기 요리를 좋아하는 분이라면 꼭 가봐야 할 곳 중 하나입니다. 삼겹살과 목살 등 다양한 육류를 맛볼 수 있으며, 식사 전후로 남산 타워의 경치도 즐길 수 있어요.\\n5.갈매기집: 고급스러운 한정식을 맛볼 수 있는 곳으로 유명합니다. 정갈하고 고급스러운 음식과 서비스를 경험할 수 있으며, 전통적인 한정식을 맛보고 싶은 분들에게 추천합니다.\"\n",
        "      },\n",
        "      {\n",
        "          \"instruction\": \"친구가 비건이야. 갈수있는 서울에 있는 카페를 알려줘\",\n",
        "          \"output\": \"비건 식단을 즐기실 수 있는 카페를 소개해드릴게요. 서울에는 다양한 비건 카페가 있어서 맛있는 음식과 음료를 즐기실 수 있습니다.\\n1.Plant: 이태원에 위치한 Plant는 100% 비건 카페로 유기농 재료를 사용하여 다양한 음식을 제공합니다. 샐러드, 샌드위치, 스무디 등 다양한 메뉴를 즐길 수 있어요.\\n2.Oh Se Gae Hyang: 홍대에 위치한 이 카페는 비건 브런치 메뉴로 유명합니다. 대부분의 메뉴가 비건이며, 특히 샐러드와 베이컨 샌드위치가 인기 있어요.\\n3.Plant Cafe & Kitchen: 이태원에 위치한 Plant Cafe & Kitchen은 플랜트 베이스의 식사와 디저트를 제공하는 곳입니다. 샐러드, 샌드위치, 스무디뿐만 아니라 비건 케이크와 브라우니도 맛볼 수 있어요.\\n4.Huggers Vegan Cafe: 홍대에 위치한 Huggers Vegan Cafe는 비건 카페로서 다양한 비건 음식을 제공합니다. 특히 채식주의자들 사이에서 유명한 레드 베이컨 치즈버거가 유명해요.\\n5.The Bread Blue: 강남에 위치한 The Bread Blue는 비건 빵과 디저트를 즐길 수 있는 곳입니다. 다양한 종류의 빵과 케이크가 있어요.\"\n",
        "      },\n",
        "      {\n",
        "          \"instruction\": \"날씨가 30도정도 되는데 갈만한 국내 여행지를 추천해줘\",\n",
        "          \"output\": \"날씨가 더워지면서 시원한 자연 경관을 즐길 수 있는 국내 여행지가 인기를 끌어요. 여름철에는 해변이나 산속으로 떠나는 여행이 좋습니다. 몇 가지 추천지를 소개해 드릴게요.\\n1.제주도: 한국의 여름철 대표적인 여행지인 제주도는 시원한 바다와 아름다운 자연 풍경으로 유명합니다. 제주의 해변을 즐기거나 한라산 등의 산을 탐험하는 것도 좋아요. 또한, 특색 있는 음식과 문화를 경험할 수 있어요.\\n2.강원도 속초: 속초는 바다와 산이 조화롭게 어우러진 아름다운 도시입니다. 속초해수욕장에서 시원한 바다를 즐기고, 동북아해양공원의 트레킹 코스를 따라 걸어보세요\\n3.강릉과 동해: 강릉과 동해는 시원한 바다와 아름다운 해안 풍경이 특징입니다. 주요 관광지로는 주문진항, 속초 등이 있으며, 해수욕과 해변 산책을 즐길 수 있습니다. 또한, 오션로드를 따라 여름 바다를 달리는 크루즈 여행도 추천합니다.\\n4.양양 오션레일바이크: 양양의 오션레일바이크는 특별한 체험을 원하는 분들에게 추천합니다. 해변을 따라 레일바이크를 타고 바다를 바라보며 즐길 수 있어요. 시원한 바다 바람을 맞으며 특별한 경험을 즐길 수 있어요.\\n5.남해도: 서울에서 가까운 남해도는 아름다운 해변과 자연 풍경이 많이 있어 여름 휴가를 보내기 좋은 곳입니다. 특히 디자인이 독특한 돌담마을이나 해수욕장에서의 힐링이 좋아요.\"\n",
        "      },\n",
        "      {\n",
        "          \"instruction\": \"남자친구랑 기념일에 갈 데이트 코스를 짜줘.\",\n",
        "          \"output\": \"기념일에는 특별한 날을 보내고 싶으시겠죠! 로맨틱한 분위기를 즐기며 함께하는 코스를 제안해드릴게요.\\n[낮시간]\\n1.테마 카페에서 브런치: 먼저 테마가 있는 아기자기한 카페에서 로맨틱한 브런치를 즐겨보세요. 분위기 있는 카페에서 맛있는 음식과 커피를 함께 즐기며 이야기를 나눌 수 있어요.\\n2.자전거 타기: 날이 좋다면 근처의 한강이나 공원에서 자전거를 타보세요. 서로의 손을 잡고 함께 자전거를 타면서 바람을 맞으면서 즐거운 시간을 보낼 수 있을 거예요.\\n[밤시간]\\n1.로맨틱한 저녁 식사: 특별한 날을 기념하는 저녁으로는 로맨틱한 분위기의 레스토랑을 예약해보세요. 캔들 라이트가 장식된 곳에서 특별한 요리와 와인을 즐기며 서로의 사랑을 나눌 수 있어요.\\n2.야경 감상: 저녁 식사 후에는 서울의 야경을 감상하기 좋은 곳으로 이동해보세요. 남산 타워나 낙산공원 등에서 서울의 아름다운 야경을 바라보며 데이트를 마무리할 수 있어요.\\n3.테마 카페나 바에서 마무리: 마지막으로 분위기 있는 테마 카페나 바에서 마무리하는 것도 좋은 아이디어입니다. 맥주나 칵테일을 마시며 서로의 이야기를 나누면서 특별한 날을 기억에 남게 만들어보세요.\"\n",
        "      },\n",
        "      {\n",
        "          \"instruction\": \"강남의 핫플레이스를 알려줘\",\n",
        "          \"output\": \"강남은 서울의 핫한 지역 중 하나로, 다양한 레스토랑, 카페, 쇼핑 명소 등이 있어요. 여러분의 취향에 맞는 다양한 핫플레이스를 소개해 드릴게요.\\n1.가로수길: 강남의 대표적인 쇼핑 거리로 유명한 가로수길은 다양한 브랜드 샵과 디자이너 브티크가 밀집되어 있어요. 쇼핑과 함께 분위기 있는 카페나 레스토랑에서 휴식을 취할 수 있습니다.\\n2.COEX 몰: COEX 몰은 한국 최대 규모의 쇼핑 몰로, 다양한 패션 브랜드부터 문화시설까지 다양한 시설을 즐길 수 있어요. 영화관, 박물관, 전시회장 등 다양한 문화 공간이 있습니다.\\n3.선릉역 카페골목: 선릉역 주변에는 다양한 분위기의 카페가 모여 있는 곳입니다. 아늑한 분위기의 카페부터 독특한 컨셉의 카페까지 다양한 선택지가 있어요.\\n4.압구정 로데오거리: 압구정 로데오거리는 유명한 패션 브랜드들과 빈티지 샵, 카페 등이 모여 있는 곳입니다. 트렌디한 패션 아이템을 찾으시거나 분위기 있는 카페에서 힐링을 즐길 수 있어요.\\n5.청담동 고급 레스토랑: 청담동은 고급 레스토랑이 모여 있는 지역으로, 특별한 날에는 고급 음식을 즐기는 것도 좋은 선택지입니다.\"\n",
        "      },\n",
        "      {\n",
        "          \"instruction\": \"전주의 맛집을 알려줘\",\n",
        "          \"output\": \"전주는 한국의 전통과 역사가 물씬 풍기는 곳으로 유명한데요, 특히 전주의 전통음식은 맛있고 특별합니다. 여기 몇 곳의 인기 맛집을 소개해 드릴게요.\\n전주 한옥마을 내 막걸리 골목: 전주 한옥마을에는 전통적인 분위기를 느낄 수 있는 막걸리 골목이 있습니다. 막걸리와 전통 안주를 즐기며 전통적인 분위기를 느낄 수 있어요.\\n전주 비빔밥 맛집 - 전주 비빔밥 골목: 전주는 전통 비빔밥으로 유명한데요, 전주 비빔밥 골목에서는 다양한 종류의 비빔밥을 맛볼 수 있습니다. 특히 골목 안 곳곳에 있는 식당들이 전통 비빔밥을 맛볼 수 있는 곳입니다.\\n전주 콩나물국밥: 전주 콩나물국밥은 전주에서 유명한 전통 음식 중 하나입니다. 고기와 채소가 푹 삶아진 국물에 밥을 넣어 먹는 이 음식은 맑고 깔끔한 맛으로 유명합니다.\\n전주 전통 한정식집 - 오씨칠성집: 오씨칠성집은 전통적인 한정식을 맛볼 수 있는 곳으로 유명합니다. 정갈하고 고급스러운 음식을 즐길 수 있으며, 한옥 분위기 속에서 특별한 식사를 즐길 수 있어요.\\n전주 전통 순두부 맛집 - 덕진 순두부: 덕진 순두부는 전주에서 유명한 전통 음식인 순두부를 맛볼 수 있는 곳입니다. 부드럽고 맛있는 순두부와 함께 다양한 안주를 즐길 수 있습니다.\"\n",
        "      },\n",
        "      {\n",
        "          \"instruction\": \"한국 전통을 느낄 수 있는 관광지를 추천해줘\",\n",
        "          \"output\": \"한국 전통을 느낄 수 있는 관광지는 한국의 역사와 문화를 경험할 수 있는 곳들입니다. 여러 가지 추천지를 소개해 드릴게요.\\n1.경복궁: 경복궁은 조선 왕조의 궁궐 중 하나로, 한국의 전통적인 건축양식과 정원을 감상할 수 있는 곳입니다. 경복궁 안에는 고증된 전통 복식을 입은 경복궁 수호병들을 만날 수도 있습니다.\\n2.전주 한옥마을: 전주 한옥마을은 한국 전통 가옥이 보존되어 있는 마을로, 전통 가옥과 문화 체험을 즐길 수 있는 곳입니다. 전통 음식과 공예품을 즐길 수 있으며, 한복을 대여하여 입고 다닐 수도 있습니다.\\n3.경주 석굴암: 경주 석굴암은 대한민국의 대표적인 사찰 중 하나로, 고려시대의 석가모니불상을 비롯한 다양한 유물을 감상할 수 있는 곳입니다. 자연과 종교적인 분위기를 함께 느낄 수 있습니다.\\n4.남한산성: 남한산성은 서울과 수원을 연결하는 성곽으로, 한국의 역사와 전통을 느낄 수 있는 산책로입니다. 산책을 즐기면서 한국의 역사와 자연을 함께 경험할 수 있습니다.\\n5.북한산 국립공원: 북한산 국립공원은 서울에 위치한 자연 보호지역으로, 한국의 자연 경관과 문화 유적을 함께 감상할 수 있는 곳입니다. 등산로를 따라 산책하면서 아름다운 풍경을 즐길 수 있습니다.\"\n",
        "      },\n",
        "    ]\n",
        "}\n"
      ],
      "metadata": {
        "id": "EsLnKBbJHUr0"
      },
      "execution_count": 4,
      "outputs": []
    },
    {
      "cell_type": "markdown",
      "source": [
        "# 학습데이터 생성"
      ],
      "metadata": {
        "id": "Ex_wxluuGNjt"
      }
    },
    {
      "cell_type": "code",
      "source": [
        "import json\n",
        "\n",
        "list_message = []\n",
        "num_data = len(dataset[\"train\"])  # 데이터셋의 길이를 사용\n",
        "\n",
        "for i in range(num_data):\n",
        "    instruction = dataset[\"train\"][i][\"instruction\"]\n",
        "    output = dataset[\"train\"][i][\"output\"]\n",
        "    print(\"질문:\", instruction)\n",
        "    print(\"답변:\", output)\n",
        "    message = [\n",
        "        {\"role\": \"user\", \"content\": instruction},\n",
        "        {\"role\": \"assistant\", \"content\": output},\n",
        "    ]\n",
        "    list_message.append(message)\n",
        "\n",
        "with open(\"output1.jsonl\", \"w\") as file:\n",
        "    for messages in list_message:\n",
        "        json_line = json.dumps({\"messages\": messages})\n",
        "        file.write(json_line + '\\n')"
      ],
      "metadata": {
        "id": "eTnCCUsslAlH",
        "colab": {
          "base_uri": "https://localhost:8080/"
        },
        "outputId": "195ac2b6-7b82-4054-b701-82713909454d"
      },
      "execution_count": 5,
      "outputs": [
        {
          "output_type": "stream",
          "name": "stdout",
          "text": [
            "질문: 넌 이름이 뭐니\n",
            "답변: 제 이름은 TripWiz입니다.\n",
            "질문: 비오는날 잠실에서 할 데이트 코스를 짜줘\n",
            "답변: 비오는 날에도 잠실에서는 다양한 즐길거리와 활동들이 많아요. 롯데월드 내 놀이공원 즐기기, 아쿠아리움 방문하기, 롯데월드몰 쇼핑하기, 카페가기등을 할 수 있어요!\n",
            "질문: 가족들과 1박2일로 속초여행을 갈거야. 여행코스를 짜줘\n",
            "답변: 훌륭한 선택이에요! 속초는 아름다운 해변과 풍부한 관광지로 가족 여행에 안성맞춤이에요. 1박 2일 동안의 여행 코스를 짜 보겠습니다.\n",
            "[ Day 1]\n",
            "오전:속초해수욕장: 여행 첫 날 아침에는 속초 대표 해변인 속초해수욕장을 방문해보세요. 바닷가를 산책하고 멋진 사진을 찍을 수 있어 가족 모두가 즐거워할 거예요.\n",
            "점심:속초시장: 속초를 대표하는 전통 시장인 속초시장에서 지역 특산물과 간식거리를 즐겨보세요. 신선한 해산물과 각종 간식들을 맛볼 수 있어요. \n",
            "오후: 속초 자연사박물관: 자연사 박물관에서는 지역의 자연과 생태계에 관한 다양한 전시물을 감상할 수 있어요. 특히 어린이들이 즐길 수 있는 체험 프로그램도 있으니 함께 참여해보세요.\n",
            "저녁:속초 명가 명동회타운: 저녁 식사는 명동회타운에서 맛있는 회 요리를 즐겨보세요. 신선한 해산물을 맛볼 수 있는 곳으로 가족들이 함께 식사를 즐기기에 좋아요.\n",
            "[ Day 2 ]\n",
            "오전: 속초 자연휴양림: 여행의 두 번째 날은 자연휴양림에서 트레킹이나 가족들과 함께 피크닉을 즐겨보세요. 아름다운 풍경과 싱그러운 공기를 느끼며 가족들과 즐거운 시간을 보낼 수 있어요. \n",
            "점심: 아바이마을: 속초를 대표하는 관광지인 아바이마을에서 지역 맛집을 찾아 식사를 즐겨보세요. 특히 해산물을 활용한 다양한 요리를 맛볼 수 있어요. \n",
            "오후: 속초 두타산 자연휴양림 케이블카: 여행 마지막 날 오후에는 속초 두타산 자연휴양림에서 케이블카를 이용해 전망대까지 올라가보세요. 멋진 풍경을 감상하며 가족들과 함께 추억을 만들어보세요.\n",
            "질문: 외국인 친구가 서울에 놀러왔어. 외국인 친구는 kpop팬이야. 추천 관광지를 알려줘\n",
            "답변: 외국인 친구가 K-pop 팬이라면, 서울에는 다양한 K-pop 관련 관광지와 체험이 있어요. 여기서 몇 가지를 추천해드릴게요! \n",
            "1.SM 타운 (SM Town): SM 엔터테인먼트의 본사인 SM 타운은 K-pop 팬들에게는 꼭 가봐야 할 곳입니다. 여기에는 SM 아티스트들의 소속사이자 전시관인 SM 코엑스 아트홀뿐만 아니라 음반샵, 카페, 상점 등이 있어요. K-pop 스타들의 관련 굿즈를 구경하고 기념품을 사는 재미를 느낄 수 있어요. \n",
            "2.YG 엔터테인먼트 빌리지: YG 엔터테인먼트의 본사인 YG 엔터테인먼트 빌리지는 YG 아티스트들의 음악과 컬처를 체험할 수 있는 장소입니다. 특히 외국인 친구가 관심을 가질 수 있는 투어나 이벤트도 종종 열리는 곳이니 관련 정보를 확인해보세요. \n",
            "3.Gangnam 코엑스: 서울의 상징적인 명소인 Gangnam 코엑스는 K-pop 스타들의 콘서트와 이벤트가 열리는 장소 중 하나입니다. 콘서트 일정을 확인하고 관련 행사에 참여해보세요.\n",
            "4.명동 K-pop 스토어: 명동은 서울에서 쇼핑을 즐길 수 있는 대표적인 장소 중 하나이며, 여기에는 다양한 K-pop 상품을 판매하는 스토어들이 많이 있어요. K-pop 음반, 굿즈, 의류 등을 구경하고 구매할 수 있어요. \n",
            "5.K-pop 댄스 체험: 서울에는 K-pop 댄스를 배울 수 있는 다양한 학원이 있습니다. 외국인 친구와 함께 K-pop 댄스 체험을 해보는 것도 재미있을 거예요.\n",
            "질문: 종로 맛집을 알려줘\n",
            "답변: 종로에는 다양한 맛집이 있지만 그중에서도 특히 유명한 몇 군데를 소개해드릴게요.\n",
            "1.춘향골: 전통적인 한국 음식을 맛볼 수 있는 곳으로 유명합니다. 특히 순두부찌개와 간장게장이 맛있어요. 한옥 분위기 속에서 정갈한 한식을 즐길 수 있습니다.\n",
            "2.공평동 족발: 종로에서 유명한 족발 전문점입니다. 부드럽고 고소한 족발이 맛있고, 매콤한 마늘 소스와 함께 먹으면 더욱 맛있습니다.\n",
            "3.삼청동 칼국수: 가볍고 깔끔한 맛으로 유명한 칼국수 전문점입니다. 고기와 면의 조화가 잘 어울리며 시원한 국물이 어른들부터 어린이까지 많은 사랑을 받습니다.\n",
            "4.남산돈가: 고기 요리를 좋아하는 분이라면 꼭 가봐야 할 곳 중 하나입니다. 삼겹살과 목살 등 다양한 육류를 맛볼 수 있으며, 식사 전후로 남산 타워의 경치도 즐길 수 있어요.\n",
            "5.갈매기집: 고급스러운 한정식을 맛볼 수 있는 곳으로 유명합니다. 정갈하고 고급스러운 음식과 서비스를 경험할 수 있으며, 전통적인 한정식을 맛보고 싶은 분들에게 추천합니다.\n",
            "질문: 친구가 비건이야. 갈수있는 서울에 있는 카페를 알려줘\n",
            "답변: 비건 식단을 즐기실 수 있는 카페를 소개해드릴게요. 서울에는 다양한 비건 카페가 있어서 맛있는 음식과 음료를 즐기실 수 있습니다.\n",
            "1.Plant: 이태원에 위치한 Plant는 100% 비건 카페로 유기농 재료를 사용하여 다양한 음식을 제공합니다. 샐러드, 샌드위치, 스무디 등 다양한 메뉴를 즐길 수 있어요.\n",
            "2.Oh Se Gae Hyang: 홍대에 위치한 이 카페는 비건 브런치 메뉴로 유명합니다. 대부분의 메뉴가 비건이며, 특히 샐러드와 베이컨 샌드위치가 인기 있어요.\n",
            "3.Plant Cafe & Kitchen: 이태원에 위치한 Plant Cafe & Kitchen은 플랜트 베이스의 식사와 디저트를 제공하는 곳입니다. 샐러드, 샌드위치, 스무디뿐만 아니라 비건 케이크와 브라우니도 맛볼 수 있어요.\n",
            "4.Huggers Vegan Cafe: 홍대에 위치한 Huggers Vegan Cafe는 비건 카페로서 다양한 비건 음식을 제공합니다. 특히 채식주의자들 사이에서 유명한 레드 베이컨 치즈버거가 유명해요.\n",
            "5.The Bread Blue: 강남에 위치한 The Bread Blue는 비건 빵과 디저트를 즐길 수 있는 곳입니다. 다양한 종류의 빵과 케이크가 있어요.\n",
            "질문: 날씨가 30도정도 되는데 갈만한 국내 여행지를 추천해줘\n",
            "답변: 날씨가 더워지면서 시원한 자연 경관을 즐길 수 있는 국내 여행지가 인기를 끌어요. 여름철에는 해변이나 산속으로 떠나는 여행이 좋습니다. 몇 가지 추천지를 소개해 드릴게요.\n",
            "1.제주도: 한국의 여름철 대표적인 여행지인 제주도는 시원한 바다와 아름다운 자연 풍경으로 유명합니다. 제주의 해변을 즐기거나 한라산 등의 산을 탐험하는 것도 좋아요. 또한, 특색 있는 음식과 문화를 경험할 수 있어요.\n",
            "2.강원도 속초: 속초는 바다와 산이 조화롭게 어우러진 아름다운 도시입니다. 속초해수욕장에서 시원한 바다를 즐기고, 동북아해양공원의 트레킹 코스를 따라 걸어보세요\n",
            "3.강릉과 동해: 강릉과 동해는 시원한 바다와 아름다운 해안 풍경이 특징입니다. 주요 관광지로는 주문진항, 속초 등이 있으며, 해수욕과 해변 산책을 즐길 수 있습니다. 또한, 오션로드를 따라 여름 바다를 달리는 크루즈 여행도 추천합니다.\n",
            "4.양양 오션레일바이크: 양양의 오션레일바이크는 특별한 체험을 원하는 분들에게 추천합니다. 해변을 따라 레일바이크를 타고 바다를 바라보며 즐길 수 있어요. 시원한 바다 바람을 맞으며 특별한 경험을 즐길 수 있어요.\n",
            "5.남해도: 서울에서 가까운 남해도는 아름다운 해변과 자연 풍경이 많이 있어 여름 휴가를 보내기 좋은 곳입니다. 특히 디자인이 독특한 돌담마을이나 해수욕장에서의 힐링이 좋아요.\n",
            "질문: 남자친구랑 기념일에 갈 데이트 코스를 짜줘.\n",
            "답변: 기념일에는 특별한 날을 보내고 싶으시겠죠! 로맨틱한 분위기를 즐기며 함께하는 코스를 제안해드릴게요.\n",
            "[낮시간]\n",
            "1.테마 카페에서 브런치: 먼저 테마가 있는 아기자기한 카페에서 로맨틱한 브런치를 즐겨보세요. 분위기 있는 카페에서 맛있는 음식과 커피를 함께 즐기며 이야기를 나눌 수 있어요.\n",
            "2.자전거 타기: 날이 좋다면 근처의 한강이나 공원에서 자전거를 타보세요. 서로의 손을 잡고 함께 자전거를 타면서 바람을 맞으면서 즐거운 시간을 보낼 수 있을 거예요.\n",
            "[밤시간]\n",
            "1.로맨틱한 저녁 식사: 특별한 날을 기념하는 저녁으로는 로맨틱한 분위기의 레스토랑을 예약해보세요. 캔들 라이트가 장식된 곳에서 특별한 요리와 와인을 즐기며 서로의 사랑을 나눌 수 있어요.\n",
            "2.야경 감상: 저녁 식사 후에는 서울의 야경을 감상하기 좋은 곳으로 이동해보세요. 남산 타워나 낙산공원 등에서 서울의 아름다운 야경을 바라보며 데이트를 마무리할 수 있어요.\n",
            "3.테마 카페나 바에서 마무리: 마지막으로 분위기 있는 테마 카페나 바에서 마무리하는 것도 좋은 아이디어입니다. 맥주나 칵테일을 마시며 서로의 이야기를 나누면서 특별한 날을 기억에 남게 만들어보세요.\n",
            "질문: 강남의 핫플레이스를 알려줘\n",
            "답변: 강남은 서울의 핫한 지역 중 하나로, 다양한 레스토랑, 카페, 쇼핑 명소 등이 있어요. 여러분의 취향에 맞는 다양한 핫플레이스를 소개해 드릴게요.\n",
            "1.가로수길: 강남의 대표적인 쇼핑 거리로 유명한 가로수길은 다양한 브랜드 샵과 디자이너 브티크가 밀집되어 있어요. 쇼핑과 함께 분위기 있는 카페나 레스토랑에서 휴식을 취할 수 있습니다.\n",
            "2.COEX 몰: COEX 몰은 한국 최대 규모의 쇼핑 몰로, 다양한 패션 브랜드부터 문화시설까지 다양한 시설을 즐길 수 있어요. 영화관, 박물관, 전시회장 등 다양한 문화 공간이 있습니다.\n",
            "3.선릉역 카페골목: 선릉역 주변에는 다양한 분위기의 카페가 모여 있는 곳입니다. 아늑한 분위기의 카페부터 독특한 컨셉의 카페까지 다양한 선택지가 있어요.\n",
            "4.압구정 로데오거리: 압구정 로데오거리는 유명한 패션 브랜드들과 빈티지 샵, 카페 등이 모여 있는 곳입니다. 트렌디한 패션 아이템을 찾으시거나 분위기 있는 카페에서 힐링을 즐길 수 있어요.\n",
            "5.청담동 고급 레스토랑: 청담동은 고급 레스토랑이 모여 있는 지역으로, 특별한 날에는 고급 음식을 즐기는 것도 좋은 선택지입니다.\n",
            "질문: 전주의 맛집을 알려줘\n",
            "답변: 전주는 한국의 전통과 역사가 물씬 풍기는 곳으로 유명한데요, 특히 전주의 전통음식은 맛있고 특별합니다. 여기 몇 곳의 인기 맛집을 소개해 드릴게요.\n",
            "전주 한옥마을 내 막걸리 골목: 전주 한옥마을에는 전통적인 분위기를 느낄 수 있는 막걸리 골목이 있습니다. 막걸리와 전통 안주를 즐기며 전통적인 분위기를 느낄 수 있어요.\n",
            "전주 비빔밥 맛집 - 전주 비빔밥 골목: 전주는 전통 비빔밥으로 유명한데요, 전주 비빔밥 골목에서는 다양한 종류의 비빔밥을 맛볼 수 있습니다. 특히 골목 안 곳곳에 있는 식당들이 전통 비빔밥을 맛볼 수 있는 곳입니다.\n",
            "전주 콩나물국밥: 전주 콩나물국밥은 전주에서 유명한 전통 음식 중 하나입니다. 고기와 채소가 푹 삶아진 국물에 밥을 넣어 먹는 이 음식은 맑고 깔끔한 맛으로 유명합니다.\n",
            "전주 전통 한정식집 - 오씨칠성집: 오씨칠성집은 전통적인 한정식을 맛볼 수 있는 곳으로 유명합니다. 정갈하고 고급스러운 음식을 즐길 수 있으며, 한옥 분위기 속에서 특별한 식사를 즐길 수 있어요.\n",
            "전주 전통 순두부 맛집 - 덕진 순두부: 덕진 순두부는 전주에서 유명한 전통 음식인 순두부를 맛볼 수 있는 곳입니다. 부드럽고 맛있는 순두부와 함께 다양한 안주를 즐길 수 있습니다.\n",
            "질문: 한국 전통을 느낄 수 있는 관광지를 추천해줘\n",
            "답변: 한국 전통을 느낄 수 있는 관광지는 한국의 역사와 문화를 경험할 수 있는 곳들입니다. 여러 가지 추천지를 소개해 드릴게요.\n",
            "1.경복궁: 경복궁은 조선 왕조의 궁궐 중 하나로, 한국의 전통적인 건축양식과 정원을 감상할 수 있는 곳입니다. 경복궁 안에는 고증된 전통 복식을 입은 경복궁 수호병들을 만날 수도 있습니다.\n",
            "2.전주 한옥마을: 전주 한옥마을은 한국 전통 가옥이 보존되어 있는 마을로, 전통 가옥과 문화 체험을 즐길 수 있는 곳입니다. 전통 음식과 공예품을 즐길 수 있으며, 한복을 대여하여 입고 다닐 수도 있습니다.\n",
            "3.경주 석굴암: 경주 석굴암은 대한민국의 대표적인 사찰 중 하나로, 고려시대의 석가모니불상을 비롯한 다양한 유물을 감상할 수 있는 곳입니다. 자연과 종교적인 분위기를 함께 느낄 수 있습니다.\n",
            "4.남한산성: 남한산성은 서울과 수원을 연결하는 성곽으로, 한국의 역사와 전통을 느낄 수 있는 산책로입니다. 산책을 즐기면서 한국의 역사와 자연을 함께 경험할 수 있습니다.\n",
            "5.북한산 국립공원: 북한산 국립공원은 서울에 위치한 자연 보호지역으로, 한국의 자연 경관과 문화 유적을 함께 감상할 수 있는 곳입니다. 등산로를 따라 산책하면서 아름다운 풍경을 즐길 수 있습니다.\n"
          ]
        }
      ]
    },
    {
      "cell_type": "markdown",
      "source": [
        "# jsonl파일 업로드"
      ],
      "metadata": {
        "id": "n9JhMeALJlAU"
      }
    },
    {
      "cell_type": "code",
      "source": [
        "upload_file = openai.File.create(\n",
        "  file=open(\"output1.jsonl\", \"rb\"),\n",
        "  purpose='fine-tune'\n",
        ")"
      ],
      "metadata": {
        "id": "TX6gK0QnKhpH"
      },
      "execution_count": 6,
      "outputs": []
    },
    {
      "cell_type": "markdown",
      "source": [
        "# 모델 학습"
      ],
      "metadata": {
        "id": "QviKVXnOGD6m"
      }
    },
    {
      "cell_type": "code",
      "source": [
        "start_train = openai.FineTuningJob.create(training_file=upload_file[\"id\"],model=\"gpt-3.5-turbo\")"
      ],
      "metadata": {
        "id": "zHoOsgszRxBX"
      },
      "execution_count": 17,
      "outputs": []
    },
    {
      "cell_type": "code",
      "source": [
        "# upload_file의 상태 확인\n",
        "upload_file = openai.File.retrieve(\"file-fB1o6kyzXEzJZkxnVLJC5FHH\")\n",
        "print(upload_file)"
      ],
      "metadata": {
        "colab": {
          "base_uri": "https://localhost:8080/",
          "height": 336
        },
        "id": "AhmYmO-2x1-V",
        "outputId": "5b7ad990-a356-40ef-99e7-47753823e092"
      },
      "execution_count": 19,
      "outputs": [
        {
          "output_type": "error",
          "ename": "InvalidRequestError",
          "evalue": "No such File object: file-fB1o6kyzXEzJZkxnVLJC5FHH",
          "traceback": [
            "\u001b[0;31m---------------------------------------------------------------------------\u001b[0m",
            "\u001b[0;31mInvalidRequestError\u001b[0m                       Traceback (most recent call last)",
            "\u001b[0;32m<ipython-input-19-88c147c2f9e1>\u001b[0m in \u001b[0;36m<cell line: 2>\u001b[0;34m()\u001b[0m\n\u001b[1;32m      1\u001b[0m \u001b[0;31m# upload_file의 상태 확인\u001b[0m\u001b[0;34m\u001b[0m\u001b[0;34m\u001b[0m\u001b[0m\n\u001b[0;32m----> 2\u001b[0;31m \u001b[0mupload_file\u001b[0m \u001b[0;34m=\u001b[0m \u001b[0mopenai\u001b[0m\u001b[0;34m.\u001b[0m\u001b[0mFile\u001b[0m\u001b[0;34m.\u001b[0m\u001b[0mretrieve\u001b[0m\u001b[0;34m(\u001b[0m\u001b[0;34m\"file-fB1o6kyzXEzJZkxnVLJC5FHH\"\u001b[0m\u001b[0;34m)\u001b[0m\u001b[0;34m\u001b[0m\u001b[0;34m\u001b[0m\u001b[0m\n\u001b[0m\u001b[1;32m      3\u001b[0m \u001b[0mprint\u001b[0m\u001b[0;34m(\u001b[0m\u001b[0mupload_file\u001b[0m\u001b[0;34m)\u001b[0m\u001b[0;34m\u001b[0m\u001b[0;34m\u001b[0m\u001b[0m\n",
            "\u001b[0;32m/usr/local/lib/python3.10/dist-packages/openai/api_resources/abstract/api_resource.py\u001b[0m in \u001b[0;36mretrieve\u001b[0;34m(cls, id, api_key, request_id, request_timeout, **params)\u001b[0m\n\u001b[1;32m     18\u001b[0m     ):\n\u001b[1;32m     19\u001b[0m         \u001b[0minstance\u001b[0m \u001b[0;34m=\u001b[0m \u001b[0mcls\u001b[0m\u001b[0;34m(\u001b[0m\u001b[0mid\u001b[0m\u001b[0;34m=\u001b[0m\u001b[0mid\u001b[0m\u001b[0;34m,\u001b[0m \u001b[0mapi_key\u001b[0m\u001b[0;34m=\u001b[0m\u001b[0mapi_key\u001b[0m\u001b[0;34m,\u001b[0m \u001b[0;34m**\u001b[0m\u001b[0mparams\u001b[0m\u001b[0;34m)\u001b[0m\u001b[0;34m\u001b[0m\u001b[0;34m\u001b[0m\u001b[0m\n\u001b[0;32m---> 20\u001b[0;31m         \u001b[0minstance\u001b[0m\u001b[0;34m.\u001b[0m\u001b[0mrefresh\u001b[0m\u001b[0;34m(\u001b[0m\u001b[0mrequest_id\u001b[0m\u001b[0;34m=\u001b[0m\u001b[0mrequest_id\u001b[0m\u001b[0;34m,\u001b[0m \u001b[0mrequest_timeout\u001b[0m\u001b[0;34m=\u001b[0m\u001b[0mrequest_timeout\u001b[0m\u001b[0;34m)\u001b[0m\u001b[0;34m\u001b[0m\u001b[0;34m\u001b[0m\u001b[0m\n\u001b[0m\u001b[1;32m     21\u001b[0m         \u001b[0;32mreturn\u001b[0m \u001b[0minstance\u001b[0m\u001b[0;34m\u001b[0m\u001b[0;34m\u001b[0m\u001b[0m\n\u001b[1;32m     22\u001b[0m \u001b[0;34m\u001b[0m\u001b[0m\n",
            "\u001b[0;32m/usr/local/lib/python3.10/dist-packages/openai/api_resources/abstract/api_resource.py\u001b[0m in \u001b[0;36mrefresh\u001b[0;34m(self, request_id, request_timeout)\u001b[0m\n\u001b[1;32m     30\u001b[0m     \u001b[0;32mdef\u001b[0m \u001b[0mrefresh\u001b[0m\u001b[0;34m(\u001b[0m\u001b[0mself\u001b[0m\u001b[0;34m,\u001b[0m \u001b[0mrequest_id\u001b[0m\u001b[0;34m=\u001b[0m\u001b[0;32mNone\u001b[0m\u001b[0;34m,\u001b[0m \u001b[0mrequest_timeout\u001b[0m\u001b[0;34m=\u001b[0m\u001b[0;32mNone\u001b[0m\u001b[0;34m)\u001b[0m\u001b[0;34m:\u001b[0m\u001b[0;34m\u001b[0m\u001b[0;34m\u001b[0m\u001b[0m\n\u001b[1;32m     31\u001b[0m         self.refresh_from(\n\u001b[0;32m---> 32\u001b[0;31m             self.request(\n\u001b[0m\u001b[1;32m     33\u001b[0m                 \u001b[0;34m\"get\"\u001b[0m\u001b[0;34m,\u001b[0m\u001b[0;34m\u001b[0m\u001b[0;34m\u001b[0m\u001b[0m\n\u001b[1;32m     34\u001b[0m                 \u001b[0mself\u001b[0m\u001b[0;34m.\u001b[0m\u001b[0minstance_url\u001b[0m\u001b[0;34m(\u001b[0m\u001b[0;34m)\u001b[0m\u001b[0;34m,\u001b[0m\u001b[0;34m\u001b[0m\u001b[0;34m\u001b[0m\u001b[0m\n",
            "\u001b[0;32m/usr/local/lib/python3.10/dist-packages/openai/openai_object.py\u001b[0m in \u001b[0;36mrequest\u001b[0;34m(self, method, url, params, headers, stream, plain_old_data, request_id, request_timeout)\u001b[0m\n\u001b[1;32m    177\u001b[0m             \u001b[0morganization\u001b[0m\u001b[0;34m=\u001b[0m\u001b[0mself\u001b[0m\u001b[0;34m.\u001b[0m\u001b[0morganization\u001b[0m\u001b[0;34m,\u001b[0m\u001b[0;34m\u001b[0m\u001b[0;34m\u001b[0m\u001b[0m\n\u001b[1;32m    178\u001b[0m         )\n\u001b[0;32m--> 179\u001b[0;31m         response, stream, api_key = requestor.request(\n\u001b[0m\u001b[1;32m    180\u001b[0m             \u001b[0mmethod\u001b[0m\u001b[0;34m,\u001b[0m\u001b[0;34m\u001b[0m\u001b[0;34m\u001b[0m\u001b[0m\n\u001b[1;32m    181\u001b[0m             \u001b[0murl\u001b[0m\u001b[0;34m,\u001b[0m\u001b[0;34m\u001b[0m\u001b[0;34m\u001b[0m\u001b[0m\n",
            "\u001b[0;32m/usr/local/lib/python3.10/dist-packages/openai/api_requestor.py\u001b[0m in \u001b[0;36mrequest\u001b[0;34m(self, method, url, params, headers, files, stream, request_id, request_timeout)\u001b[0m\n\u001b[1;32m    296\u001b[0m             \u001b[0mrequest_timeout\u001b[0m\u001b[0;34m=\u001b[0m\u001b[0mrequest_timeout\u001b[0m\u001b[0;34m,\u001b[0m\u001b[0;34m\u001b[0m\u001b[0;34m\u001b[0m\u001b[0m\n\u001b[1;32m    297\u001b[0m         )\n\u001b[0;32m--> 298\u001b[0;31m         \u001b[0mresp\u001b[0m\u001b[0;34m,\u001b[0m \u001b[0mgot_stream\u001b[0m \u001b[0;34m=\u001b[0m \u001b[0mself\u001b[0m\u001b[0;34m.\u001b[0m\u001b[0m_interpret_response\u001b[0m\u001b[0;34m(\u001b[0m\u001b[0mresult\u001b[0m\u001b[0;34m,\u001b[0m \u001b[0mstream\u001b[0m\u001b[0;34m)\u001b[0m\u001b[0;34m\u001b[0m\u001b[0;34m\u001b[0m\u001b[0m\n\u001b[0m\u001b[1;32m    299\u001b[0m         \u001b[0;32mreturn\u001b[0m \u001b[0mresp\u001b[0m\u001b[0;34m,\u001b[0m \u001b[0mgot_stream\u001b[0m\u001b[0;34m,\u001b[0m \u001b[0mself\u001b[0m\u001b[0;34m.\u001b[0m\u001b[0mapi_key\u001b[0m\u001b[0;34m\u001b[0m\u001b[0;34m\u001b[0m\u001b[0m\n\u001b[1;32m    300\u001b[0m \u001b[0;34m\u001b[0m\u001b[0m\n",
            "\u001b[0;32m/usr/local/lib/python3.10/dist-packages/openai/api_requestor.py\u001b[0m in \u001b[0;36m_interpret_response\u001b[0;34m(self, result, stream)\u001b[0m\n\u001b[1;32m    698\u001b[0m         \u001b[0;32melse\u001b[0m\u001b[0;34m:\u001b[0m\u001b[0;34m\u001b[0m\u001b[0;34m\u001b[0m\u001b[0m\n\u001b[1;32m    699\u001b[0m             return (\n\u001b[0;32m--> 700\u001b[0;31m                 self._interpret_response_line(\n\u001b[0m\u001b[1;32m    701\u001b[0m                     \u001b[0mresult\u001b[0m\u001b[0;34m.\u001b[0m\u001b[0mcontent\u001b[0m\u001b[0;34m.\u001b[0m\u001b[0mdecode\u001b[0m\u001b[0;34m(\u001b[0m\u001b[0;34m\"utf-8\"\u001b[0m\u001b[0;34m)\u001b[0m\u001b[0;34m,\u001b[0m\u001b[0;34m\u001b[0m\u001b[0;34m\u001b[0m\u001b[0m\n\u001b[1;32m    702\u001b[0m                     \u001b[0mresult\u001b[0m\u001b[0;34m.\u001b[0m\u001b[0mstatus_code\u001b[0m\u001b[0;34m,\u001b[0m\u001b[0;34m\u001b[0m\u001b[0;34m\u001b[0m\u001b[0m\n",
            "\u001b[0;32m/usr/local/lib/python3.10/dist-packages/openai/api_requestor.py\u001b[0m in \u001b[0;36m_interpret_response_line\u001b[0;34m(self, rbody, rcode, rheaders, stream)\u001b[0m\n\u001b[1;32m    763\u001b[0m         \u001b[0mstream_error\u001b[0m \u001b[0;34m=\u001b[0m \u001b[0mstream\u001b[0m \u001b[0;32mand\u001b[0m \u001b[0;34m\"error\"\u001b[0m \u001b[0;32min\u001b[0m \u001b[0mresp\u001b[0m\u001b[0;34m.\u001b[0m\u001b[0mdata\u001b[0m\u001b[0;34m\u001b[0m\u001b[0;34m\u001b[0m\u001b[0m\n\u001b[1;32m    764\u001b[0m         \u001b[0;32mif\u001b[0m \u001b[0mstream_error\u001b[0m \u001b[0;32mor\u001b[0m \u001b[0;32mnot\u001b[0m \u001b[0;36m200\u001b[0m \u001b[0;34m<=\u001b[0m \u001b[0mrcode\u001b[0m \u001b[0;34m<\u001b[0m \u001b[0;36m300\u001b[0m\u001b[0;34m:\u001b[0m\u001b[0;34m\u001b[0m\u001b[0;34m\u001b[0m\u001b[0m\n\u001b[0;32m--> 765\u001b[0;31m             raise self.handle_error_response(\n\u001b[0m\u001b[1;32m    766\u001b[0m                 \u001b[0mrbody\u001b[0m\u001b[0;34m,\u001b[0m \u001b[0mrcode\u001b[0m\u001b[0;34m,\u001b[0m \u001b[0mresp\u001b[0m\u001b[0;34m.\u001b[0m\u001b[0mdata\u001b[0m\u001b[0;34m,\u001b[0m \u001b[0mrheaders\u001b[0m\u001b[0;34m,\u001b[0m \u001b[0mstream_error\u001b[0m\u001b[0;34m=\u001b[0m\u001b[0mstream_error\u001b[0m\u001b[0;34m\u001b[0m\u001b[0;34m\u001b[0m\u001b[0m\n\u001b[1;32m    767\u001b[0m             )\n",
            "\u001b[0;31mInvalidRequestError\u001b[0m: No such File object: file-fB1o6kyzXEzJZkxnVLJC5FHH"
          ]
        }
      ]
    },
    {
      "cell_type": "code",
      "source": [
        "start_train = openai.FineTuningJob.create(\n",
        "    training_file=\"file-fB1o6kyzXEzJZkxnVLJC5FHH\",\n",
        "    model=\"gpt-3.5-turbo\"\n",
        ")"
      ],
      "metadata": {
        "id": "pKKZcJlwynto",
        "colab": {
          "base_uri": "https://localhost:8080/",
          "height": 355
        },
        "outputId": "d6016763-5c98-42b2-89a8-b025aeecafa3"
      },
      "execution_count": 25,
      "outputs": [
        {
          "output_type": "error",
          "ename": "InvalidRequestError",
          "evalue": "file-fB1o6kyzXEzJZkxnVLJC5FHH does not exist",
          "traceback": [
            "\u001b[0;31m---------------------------------------------------------------------------\u001b[0m",
            "\u001b[0;31mInvalidRequestError\u001b[0m                       Traceback (most recent call last)",
            "\u001b[0;32m<ipython-input-25-5c813c4e5049>\u001b[0m in \u001b[0;36m<cell line: 1>\u001b[0;34m()\u001b[0m\n\u001b[0;32m----> 1\u001b[0;31m start_train = openai.FineTuningJob.create(\n\u001b[0m\u001b[1;32m      2\u001b[0m     \u001b[0mtraining_file\u001b[0m\u001b[0;34m=\u001b[0m\u001b[0;34m\"file-fB1o6kyzXEzJZkxnVLJC5FHH\"\u001b[0m\u001b[0;34m,\u001b[0m\u001b[0;34m\u001b[0m\u001b[0;34m\u001b[0m\u001b[0m\n\u001b[1;32m      3\u001b[0m     \u001b[0mmodel\u001b[0m\u001b[0;34m=\u001b[0m\u001b[0;34m\"gpt-3.5-turbo\"\u001b[0m\u001b[0;34m\u001b[0m\u001b[0;34m\u001b[0m\u001b[0m\n\u001b[1;32m      4\u001b[0m )\n",
            "\u001b[0;32m/usr/local/lib/python3.10/dist-packages/openai/api_resources/abstract/createable_api_resource.py\u001b[0m in \u001b[0;36mcreate\u001b[0;34m(cls, api_key, api_base, api_type, request_id, api_version, organization, **params)\u001b[0m\n\u001b[1;32m     55\u001b[0m         )\n\u001b[1;32m     56\u001b[0m \u001b[0;34m\u001b[0m\u001b[0m\n\u001b[0;32m---> 57\u001b[0;31m         response, _, api_key = requestor.request(\n\u001b[0m\u001b[1;32m     58\u001b[0m             \u001b[0;34m\"post\"\u001b[0m\u001b[0;34m,\u001b[0m \u001b[0murl\u001b[0m\u001b[0;34m,\u001b[0m \u001b[0mparams\u001b[0m\u001b[0;34m,\u001b[0m \u001b[0mrequest_id\u001b[0m\u001b[0;34m=\u001b[0m\u001b[0mrequest_id\u001b[0m\u001b[0;34m\u001b[0m\u001b[0;34m\u001b[0m\u001b[0m\n\u001b[1;32m     59\u001b[0m         )\n",
            "\u001b[0;32m/usr/local/lib/python3.10/dist-packages/openai/api_requestor.py\u001b[0m in \u001b[0;36mrequest\u001b[0;34m(self, method, url, params, headers, files, stream, request_id, request_timeout)\u001b[0m\n\u001b[1;32m    296\u001b[0m             \u001b[0mrequest_timeout\u001b[0m\u001b[0;34m=\u001b[0m\u001b[0mrequest_timeout\u001b[0m\u001b[0;34m,\u001b[0m\u001b[0;34m\u001b[0m\u001b[0;34m\u001b[0m\u001b[0m\n\u001b[1;32m    297\u001b[0m         )\n\u001b[0;32m--> 298\u001b[0;31m         \u001b[0mresp\u001b[0m\u001b[0;34m,\u001b[0m \u001b[0mgot_stream\u001b[0m \u001b[0;34m=\u001b[0m \u001b[0mself\u001b[0m\u001b[0;34m.\u001b[0m\u001b[0m_interpret_response\u001b[0m\u001b[0;34m(\u001b[0m\u001b[0mresult\u001b[0m\u001b[0;34m,\u001b[0m \u001b[0mstream\u001b[0m\u001b[0;34m)\u001b[0m\u001b[0;34m\u001b[0m\u001b[0;34m\u001b[0m\u001b[0m\n\u001b[0m\u001b[1;32m    299\u001b[0m         \u001b[0;32mreturn\u001b[0m \u001b[0mresp\u001b[0m\u001b[0;34m,\u001b[0m \u001b[0mgot_stream\u001b[0m\u001b[0;34m,\u001b[0m \u001b[0mself\u001b[0m\u001b[0;34m.\u001b[0m\u001b[0mapi_key\u001b[0m\u001b[0;34m\u001b[0m\u001b[0;34m\u001b[0m\u001b[0m\n\u001b[1;32m    300\u001b[0m \u001b[0;34m\u001b[0m\u001b[0m\n",
            "\u001b[0;32m/usr/local/lib/python3.10/dist-packages/openai/api_requestor.py\u001b[0m in \u001b[0;36m_interpret_response\u001b[0;34m(self, result, stream)\u001b[0m\n\u001b[1;32m    698\u001b[0m         \u001b[0;32melse\u001b[0m\u001b[0;34m:\u001b[0m\u001b[0;34m\u001b[0m\u001b[0;34m\u001b[0m\u001b[0m\n\u001b[1;32m    699\u001b[0m             return (\n\u001b[0;32m--> 700\u001b[0;31m                 self._interpret_response_line(\n\u001b[0m\u001b[1;32m    701\u001b[0m                     \u001b[0mresult\u001b[0m\u001b[0;34m.\u001b[0m\u001b[0mcontent\u001b[0m\u001b[0;34m.\u001b[0m\u001b[0mdecode\u001b[0m\u001b[0;34m(\u001b[0m\u001b[0;34m\"utf-8\"\u001b[0m\u001b[0;34m)\u001b[0m\u001b[0;34m,\u001b[0m\u001b[0;34m\u001b[0m\u001b[0;34m\u001b[0m\u001b[0m\n\u001b[1;32m    702\u001b[0m                     \u001b[0mresult\u001b[0m\u001b[0;34m.\u001b[0m\u001b[0mstatus_code\u001b[0m\u001b[0;34m,\u001b[0m\u001b[0;34m\u001b[0m\u001b[0;34m\u001b[0m\u001b[0m\n",
            "\u001b[0;32m/usr/local/lib/python3.10/dist-packages/openai/api_requestor.py\u001b[0m in \u001b[0;36m_interpret_response_line\u001b[0;34m(self, rbody, rcode, rheaders, stream)\u001b[0m\n\u001b[1;32m    763\u001b[0m         \u001b[0mstream_error\u001b[0m \u001b[0;34m=\u001b[0m \u001b[0mstream\u001b[0m \u001b[0;32mand\u001b[0m \u001b[0;34m\"error\"\u001b[0m \u001b[0;32min\u001b[0m \u001b[0mresp\u001b[0m\u001b[0;34m.\u001b[0m\u001b[0mdata\u001b[0m\u001b[0;34m\u001b[0m\u001b[0;34m\u001b[0m\u001b[0m\n\u001b[1;32m    764\u001b[0m         \u001b[0;32mif\u001b[0m \u001b[0mstream_error\u001b[0m \u001b[0;32mor\u001b[0m \u001b[0;32mnot\u001b[0m \u001b[0;36m200\u001b[0m \u001b[0;34m<=\u001b[0m \u001b[0mrcode\u001b[0m \u001b[0;34m<\u001b[0m \u001b[0;36m300\u001b[0m\u001b[0;34m:\u001b[0m\u001b[0;34m\u001b[0m\u001b[0;34m\u001b[0m\u001b[0m\n\u001b[0;32m--> 765\u001b[0;31m             raise self.handle_error_response(\n\u001b[0m\u001b[1;32m    766\u001b[0m                 \u001b[0mrbody\u001b[0m\u001b[0;34m,\u001b[0m \u001b[0mrcode\u001b[0m\u001b[0;34m,\u001b[0m \u001b[0mresp\u001b[0m\u001b[0;34m.\u001b[0m\u001b[0mdata\u001b[0m\u001b[0;34m,\u001b[0m \u001b[0mrheaders\u001b[0m\u001b[0;34m,\u001b[0m \u001b[0mstream_error\u001b[0m\u001b[0;34m=\u001b[0m\u001b[0mstream_error\u001b[0m\u001b[0;34m\u001b[0m\u001b[0;34m\u001b[0m\u001b[0m\n\u001b[1;32m    767\u001b[0m             )\n",
            "\u001b[0;31mInvalidRequestError\u001b[0m: file-fB1o6kyzXEzJZkxnVLJC5FHH does not exist"
          ]
        }
      ]
    },
    {
      "cell_type": "code",
      "source": [
        "# Fine-tuning 작업 상태 확인\n",
        "status = openai.FineTuningJob.list(limit=10)\n",
        "status[\"data\"][0]"
      ],
      "metadata": {
        "colab": {
          "base_uri": "https://localhost:8080/"
        },
        "id": "YD_wWa56JioG",
        "outputId": "4639ccae-9419-4157-f9c2-6f9e9a1fff1c"
      },
      "execution_count": 26,
      "outputs": [
        {
          "output_type": "execute_result",
          "data": {
            "text/plain": [
              "<FineTuningJob fine_tuning.job id=ftjob-C9OooB1cVuykXoFiWVas7yHj at 0x7aaa0d882bb0> JSON: {\n",
              "  \"object\": \"fine_tuning.job\",\n",
              "  \"id\": \"ftjob-C9OooB1cVuykXoFiWVas7yHj\",\n",
              "  \"model\": \"gpt-3.5-turbo-0125\",\n",
              "  \"created_at\": 1715143153,\n",
              "  \"finished_at\": 1715143443,\n",
              "  \"fine_tuned_model\": \"ft:gpt-3.5-turbo-0125:personal::9MTRsIcq\",\n",
              "  \"organization_id\": \"org-7SULfxtSE1p4hwwgDmZrkRoQ\",\n",
              "  \"result_files\": [\n",
              "    \"file-MoYP7SzXZtGky6PyEhASFgpT\"\n",
              "  ],\n",
              "  \"status\": \"succeeded\",\n",
              "  \"validation_file\": null,\n",
              "  \"training_file\": \"file-3uDaVHM3CQoaYKGdKO7Mcajl\",\n",
              "  \"hyperparameters\": {\n",
              "    \"n_epochs\": 9,\n",
              "    \"batch_size\": 1,\n",
              "    \"learning_rate_multiplier\": 2\n",
              "  },\n",
              "  \"trained_tokens\": 54369,\n",
              "  \"error\": {},\n",
              "  \"user_provided_suffix\": null,\n",
              "  \"seed\": 1478084638,\n",
              "  \"estimated_finish\": null,\n",
              "  \"integrations\": []\n",
              "}"
            ]
          },
          "metadata": {},
          "execution_count": 26
        }
      ]
    },
    {
      "cell_type": "code",
      "source": [
        "# 모델 이름 얻기\n",
        "fine_tuned_model = status[\"data\"][0][\"fine_tuned_model\"]\n",
        "print(fine_tuned_model)"
      ],
      "metadata": {
        "colab": {
          "base_uri": "https://localhost:8080/"
        },
        "id": "h5q_gKNmzEdG",
        "outputId": "b5ffb8e8-af64-4e5f-9b7a-8eb06055185a"
      },
      "execution_count": 27,
      "outputs": [
        {
          "output_type": "stream",
          "name": "stdout",
          "text": [
            "ft:gpt-3.5-turbo-0125:personal::9MTRsIcq\n"
          ]
        }
      ]
    },
    {
      "cell_type": "code",
      "source": [
        "completion = openai.ChatCompletion.create(\n",
        "  model=status[\"data\"][0][\"fine_tuned_model\"],\n",
        "  messages=[\n",
        "    {\"role\": \"user\", \"content\": \"너 이름이 뭐야\"}\n",
        "  ]\n",
        ")"
      ],
      "metadata": {
        "id": "2jefHfZhGGSt"
      },
      "execution_count": 35,
      "outputs": []
    },
    {
      "cell_type": "code",
      "source": [
        "print(completion.choices[0].message[\"content\"])"
      ],
      "metadata": {
        "colab": {
          "base_uri": "https://localhost:8080/"
        },
        "id": "FFuRGtjyJhbr",
        "outputId": "a024ece4-7a49-429a-b2f9-a81f92e18d29"
      },
      "execution_count": 36,
      "outputs": [
        {
          "output_type": "stream",
          "name": "stdout",
          "text": [
            "제 이름은 TripWiz입니다.\n"
          ]
        }
      ]
    }
  ]
}